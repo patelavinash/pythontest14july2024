{
 "cells": [
  {
   "cell_type": "markdown",
   "id": "e9c0e5f4-f4ea-4fd5-84da-b67c5ed6a43d",
   "metadata": {},
   "source": [
    "Q.1. Create a dictionar given below abd print the value of key \"Virat\" from below dictionary\n",
    "sampleDict={\n",
    "    \"Country\":{\n",
    "        \"Indian Cricket Team\":{\n",
    "            \"name\": [\"Rohit\", \"Virat\", \"Rahul\", \"Shami\", \"Bumrah\"],\n",
    "            \"Runs\": {\n",
    "                \"Rohit\": 47,\n",
    "                \"Virat\": 54,\n",
    "                \"Rahu\": 66\n",
    "            }\n",
    "        }\n",
    "    }\n",
    "}"
   ]
  },
  {
   "cell_type": "code",
   "execution_count": 19,
   "id": "33427a62-2ce0-4e39-8881-9b37766a9fd9",
   "metadata": {},
   "outputs": [
    {
     "name": "stdout",
     "output_type": "stream",
     "text": [
      "54\n"
     ]
    }
   ],
   "source": [
    "sampleDict={\n",
    "    \"Country\":{\n",
    "        \"Indian Cricket Team\":{\n",
    "            \"name\": [\"Rohit\", \"Virat\", \"Rahul\", \"Shami\", \"Bumrah\"],\n",
    "            \"Runs\": {\n",
    "                \"Rohit\": 47,\n",
    "                \"Virat\": 54,\n",
    "                \"Rahu\": 66\n",
    "            }\n",
    "        }\n",
    "    }\n",
    "}\n",
    "print(sampleDict[\"Country\"][\"Indian Cricket Team\"][\"Runs\"][\"Virat\"])\n"
   ]
  },
  {
   "cell_type": "markdown",
   "id": "6924417a-409b-4736-ac2c-6a742086577a",
   "metadata": {},
   "source": [
    "Q.2 Write a Python program to check if value 2700 exists in the following dictionary.\n",
    "sample_dict={'a': 100, 'b': 2800, 'c': 300}"
   ]
  },
  {
   "cell_type": "code",
   "execution_count": 5,
   "id": "089d8746-c2e3-42a2-8c4c-72983a48beb7",
   "metadata": {},
   "outputs": [
    {
     "name": "stdout",
     "output_type": "stream",
     "text": [
      "2700 Key is not present in the dictionary\n"
     ]
    }
   ],
   "source": [
    "sample_dict={'a': 100, 'b': 2800, 'c': 300}\n",
    "def is_p(x):\n",
    "    if x in sample_dict:\n",
    "        print('2700 Key is present in the dictionary')\n",
    "    else:\n",
    "        print('2700 Key is not present in the dictionary')\n",
    "is_p(2700)"
   ]
  },
  {
   "cell_type": "markdown",
   "id": "eaee1d6f-3e24-4a76-8e11-22adf9f1f12e",
   "metadata": {},
   "source": [
    "Q. 3 Write python code to add a list of elements in a given set\n",
    "sample_set={\"Surya\",\"Kapil\", \"MSD\"}\n",
    "sample_list={\"Sachin\", \"Siraj\", \"Sehwag\"}"
   ]
  },
  {
   "cell_type": "code",
   "execution_count": 7,
   "id": "7c605cc8-fc5a-468c-a1dd-36605a3636fe",
   "metadata": {},
   "outputs": [
    {
     "name": "stdout",
     "output_type": "stream",
     "text": [
      "{'Sachin', 'MSD', 'Siraj', 'Sehwag', 'Kapil', 'Surya'}\n"
     ]
    }
   ],
   "source": [
    "sample_set={\"Surya\",\"Kapil\", \"MSD\"}\n",
    "sample_list={\"Sachin\", \"Siraj\", \"Sehwag\"}\n",
    "sample_set.update(sample_list)\n",
    "print(sample_set)"
   ]
  },
  {
   "cell_type": "markdown",
   "id": "e9d879ba-ee2a-41ab-9f69-827b167445a9",
   "metadata": {},
   "source": [
    "Q.4. Write a python program to return a new set of identical items from two set\n",
    "set1= {10,20,30,40,50}\n",
    "set2= {30,40,50,60,70}"
   ]
  },
  {
   "cell_type": "code",
   "execution_count": 8,
   "id": "a3c911f2-515a-430f-871a-b2a87f370955",
   "metadata": {},
   "outputs": [
    {
     "name": "stdout",
     "output_type": "stream",
     "text": [
      "{40, 50, 30}\n"
     ]
    }
   ],
   "source": [
    "set1= {10,20,30,40,50}\n",
    "set2= {30,40,50,60,70}\n",
    "print(set1.intersection(set2))\n"
   ]
  },
  {
   "cell_type": "markdown",
   "id": "c908345f-f4b7-4d74-9f13-ac5ad3d397cf",
   "metadata": {},
   "source": [
    "Q. 5. Given a list of numbers. Write a program to turn every item of list into its square\n",
    "numbers = [1,2,3,4,5,6,7]"
   ]
  },
  {
   "cell_type": "code",
   "execution_count": 9,
   "id": "4c2ce051-6a1f-4114-80ba-a2608834e33b",
   "metadata": {},
   "outputs": [
    {
     "name": "stdout",
     "output_type": "stream",
     "text": [
      "[1, 4, 9, 16, 25, 36, 49]\n"
     ]
    }
   ],
   "source": [
    "numbers = [1,2,3,4,5,6,7]\n",
    "l=[int(numbers[i])**2 for i in range(len(numbers))]\n",
    "print(l)"
   ]
  },
  {
   "cell_type": "markdown",
   "id": "5ec1e7f4-87e6-43d2-8013-3d2c9d108c59",
   "metadata": {},
   "source": [
    "Q.6. Write a program to add item 7000 after 6000 in the following python list\n",
    "list1=[10, 20, [300,400. [5000, 6000], 500], 30, 40]"
   ]
  },
  {
   "cell_type": "code",
   "execution_count": 18,
   "id": "d9622501-5aa8-4d58-8db0-c6afad68e57c",
   "metadata": {},
   "outputs": [
    {
     "name": "stdin",
     "output_type": "stream",
     "text": [
      "Enter number 7000: 7000\n"
     ]
    },
    {
     "name": "stdout",
     "output_type": "stream",
     "text": [
      "[10, 20, [300, 400, [5000, 6000, 7000], 500], 30, 40]\n"
     ]
    }
   ],
   "source": [
    "list1=[10, 20, [300,400, [5000, 6000], 500], 30, 40]\n",
    "add = int(input(\"Enter number 7000:\"))\n",
    "list1[2][2].append(add)\n",
    "print(list1)"
   ]
  },
  {
   "cell_type": "code",
   "execution_count": null,
   "id": "43fa1318-5c27-4344-9360-e3b520a651fe",
   "metadata": {},
   "outputs": [],
   "source": []
  }
 ],
 "metadata": {
  "kernelspec": {
   "display_name": "Python 3 (ipykernel)",
   "language": "python",
   "name": "python3"
  },
  "language_info": {
   "codemirror_mode": {
    "name": "ipython",
    "version": 3
   },
   "file_extension": ".py",
   "mimetype": "text/x-python",
   "name": "python",
   "nbconvert_exporter": "python",
   "pygments_lexer": "ipython3",
   "version": "3.11.7"
  }
 },
 "nbformat": 4,
 "nbformat_minor": 5
}
